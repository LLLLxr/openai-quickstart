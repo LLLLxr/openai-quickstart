{
 "cells": [
  {
   "cell_type": "markdown",
   "id": "b4b6a552-b7f0-433d-9a70-61c4fcc52d5d",
   "metadata": {},
   "source": [
    "# 快速入门 GPT-4 Vison\n",
    "\n",
    "从历史上看，语言模型系统仅接受**文本**作为输入。但是单一的输入形式，限制了大模型的应用落地范围。\n",
    "\n",
    "随着技术发展，OpenAI 开发的 GPT-4 Turbo with Vision（简称 GPT-4V）允许模型接收**图像**作为输入，并回答关于它们的问题。\n",
    "\n",
    "📢注意，目前在 Assistants API 中使用 GPT-4 时还不支持图像输入。"
   ]
  },
  {
   "cell_type": "markdown",
   "id": "3a701c56-0a2a-4dea-b458-234150b84ff2",
   "metadata": {},
   "source": [
    "## 使用 GPT-4V 识别线上图像（URL）\n",
    "\n",
    "![image_sample](https://upload.wikimedia.org/wikipedia/commons/thumb/d/dd/Gfp-wisconsin-madison-the-nature-boardwalk.jpg/2560px-Gfp-wisconsin-madison-the-nature-boardwalk.jpg)"
   ]
  },
  {
   "cell_type": "code",
   "execution_count": 12,
   "id": "bf8689b2-94f2-4a35-a332-9ffed0a56aca",
   "metadata": {},
   "outputs": [
    {
     "name": "stdout",
     "output_type": "stream",
     "text": [
      "Choice(finish_reason='length', index=0, logprobs=None, message=ChatCompletionMessage(content='这幅图描绘了一个宁静且自然美丽的风景。图片中，一条木制步道穿过一片绿色的草地，引导观者的视线向远处延伸。草地两侧是郁郁葱葱的植被和树木，远处的树木轮廓在天际线上形成一道美丽的边框。\\n\\n步道两边的草地呈现出鲜明的绿色，草丛中可能生活着各种小动物和昆虫，是自然生态系统的一部分。天空呈现出淡蓝色，布满了淡淡的白云，增加了画面的深度和广阔感。\\n\\n整体来说，这幅图片展示了一种平和而诱人的自然景象，是很多人在日常忙碌生活中向往的宁静与自然之美。这样的场景也可能是户外散步和放松的好地方，让人', role='assistant', function_call=None, tool_calls=None))\n"
     ]
    }
   ],
   "source": [
    "from openai import OpenAI\n",
    "\n",
    "client = OpenAI(\n",
    "    # 中转Key或者直连Key\n",
    "    api_key='sk-Y37XZ0XBQkz9gLma43C2D35679Ce4615910d500169C93d23',         \n",
    "    # 代理地址，填写商家中转站或自建OpenAI代理\n",
    "    base_url='https://api.xiaoai.plus/v1' \n",
    ")  # 初始化 OpenAI 客户端\n",
    "\n",
    "response = client.chat.completions.create(\n",
    "  model=\"gpt-4-turbo\",\n",
    "  messages=[\n",
    "    {\n",
    "      \"role\": \"user\",\n",
    "      \"content\": [\n",
    "        {\"type\": \"text\", \"text\": \"介绍下这幅图?\"},\n",
    "        {\n",
    "          \"type\": \"image_url\",\n",
    "          \"image_url\": {\n",
    "            \"url\": \"https://upload.wikimedia.org/wikipedia/commons/thumb/d/dd/Gfp-wisconsin-madison-the-nature-boardwalk.jpg/2560px-Gfp-wisconsin-madison-the-nature-boardwalk.jpg\",\n",
    "          },\n",
    "        },\n",
    "      ],\n",
    "    }\n",
    "  ],\n",
    "  max_tokens=300,\n",
    ")\n",
    "\n",
    "print(response.choices[0])"
   ]
  },
  {
   "cell_type": "code",
   "execution_count": 13,
   "id": "9bcc9026-7485-428f-8269-ea9ae41405cb",
   "metadata": {},
   "outputs": [
    {
     "data": {
      "text/plain": [
       "'这幅图描绘了一个宁静且自然美丽的风景。图片中，一条木制步道穿过一片绿色的草地，引导观者的视线向远处延伸。草地两侧是郁郁葱葱的植被和树木，远处的树木轮廓在天际线上形成一道美丽的边框。\\n\\n步道两边的草地呈现出鲜明的绿色，草丛中可能生活着各种小动物和昆虫，是自然生态系统的一部分。天空呈现出淡蓝色，布满了淡淡的白云，增加了画面的深度和广阔感。\\n\\n整体来说，这幅图片展示了一种平和而诱人的自然景象，是很多人在日常忙碌生活中向往的宁静与自然之美。这样的场景也可能是户外散步和放松的好地方，让人'"
      ]
     },
     "execution_count": 13,
     "metadata": {},
     "output_type": "execute_result"
    }
   ],
   "source": [
    "response.choices[0].message.content"
   ]
  },
  {
   "cell_type": "markdown",
   "id": "7fb50a14-fa14-4c63-9f81-b98b0f65d9d9",
   "metadata": {},
   "source": [
    "### 封装成一个函数 query_image_description"
   ]
  },
  {
   "cell_type": "code",
   "execution_count": 14,
   "id": "c1ca5428-c7e1-4d7e-91f1-d4a05e95ac51",
   "metadata": {},
   "outputs": [],
   "source": [
    "def query_image_description(url, prompt=\"介绍下这幅图?\"):\n",
    "    client = OpenAI(\n",
    "    # 中转Key或者直连Key\n",
    "    api_key='sk-Y37XZ0XBQkz9gLma43C2D35679Ce4615910d500169C93d23',         \n",
    "    # 代理地址，填写商家中转站或自建OpenAI代理\n",
    "    base_url='https://api.xiaoai.plus/v1' \n",
    ")  # 初始化 OpenAI 客户端\n",
    "    \n",
    "    # 发送请求给 OpenAI 的聊天模型\n",
    "    response = client.chat.completions.create(\n",
    "        model=\"gpt-4-turbo\",  # 指定使用的模型\n",
    "        messages=[\n",
    "            {\n",
    "                \"role\": \"user\",\n",
    "                \"content\": [\n",
    "                    {\"type\": \"text\", \"text\": prompt},\n",
    "                    {\"type\": \"image_url\", \"image_url\": {\"url\": url}},\n",
    "                ],\n",
    "            }\n",
    "        ],\n",
    "        max_tokens=300,\n",
    "    )\n",
    "    \n",
    "    # 返回模型的响应\n",
    "    return response.choices[0].message.content\n"
   ]
  },
  {
   "cell_type": "markdown",
   "id": "a0d0aceb-7cc5-4da1-b6db-e47716ba145a",
   "metadata": {},
   "source": [
    "### 调用函数测试\n",
    "\n",
    "![meme_0](https://p6.itc.cn/q_70/images03/20200602/0c267a0d3d814c9783659eb956969ba1.jpeg)"
   ]
  },
  {
   "cell_type": "code",
   "execution_count": 15,
   "id": "454abb5c-49d3-42e6-867e-f44e25af5e0e",
   "metadata": {},
   "outputs": [
    {
     "name": "stdout",
     "output_type": "stream",
     "text": [
      "这是一幅幽默图片，展示了两种不同形象的柴犬。左侧的柴犬经过了“16岁的挺”处理，被描绘成拥有健壮的身体和肌肉，形象魁梧，看起来非常强壮和有力。右侧的柴犬则是“工作后的状”被描绘成坐着，体型略显圆润、看起来较为悠闲和满足。这幅图通过夸张的手法，表达出年轻时的朝气和工作后的放松颓态，含有幽默与讽刺的元素。文字部分则强调了不同生活方式和态度的对比，具有一定的娱乐和讽刺意味。\n"
     ]
    }
   ],
   "source": [
    "image_url = \"https://p6.itc.cn/q_70/images03/20200602/0c267a0d3d814c9783659eb956969ba1.jpeg\"\n",
    "content = query_image_description(image_url)\n",
    "print(content)"
   ]
  },
  {
   "cell_type": "code",
   "execution_count": null,
   "id": "2471306a-84e2-4793-b065-0741fbe57262",
   "metadata": {},
   "outputs": [],
   "source": []
  },
  {
   "cell_type": "code",
   "execution_count": null,
   "id": "af79850f-83b5-49c4-a3f3-f2c01a28f458",
   "metadata": {},
   "outputs": [],
   "source": []
  },
  {
   "cell_type": "markdown",
   "id": "63ae05bd-872c-4638-8259-df4f420aaa1d",
   "metadata": {},
   "source": [
    "### 使用 GPT-4V 识别本地图像文件（Base64编码）\n"
   ]
  },
  {
   "cell_type": "code",
   "execution_count": 18,
   "id": "1e83da68-d387-46da-8236-78fc607d1fab",
   "metadata": {},
   "outputs": [],
   "source": [
    "from openai import OpenAI\n",
    "import base64\n",
    "import requests\n",
    "import json\n",
    "\n",
    "client = OpenAI(\n",
    "    # 中转Key或者直连Key\n",
    "    api_key='sk-Y37XZ0XBQkz9gLma43C2D35679Ce4615910d500169C93d23',         \n",
    "    # 代理地址，填写商家中转站或自建OpenAI代理\n",
    "    base_url='https://api.xiaoai.plus/v1' \n",
    ")  # 初始化 OpenAI 客户端\n",
    "\n",
    "def query_base64_image_description(image_path, prompt=\"解释下图里的内容？\", max_tokens=1000):\n",
    "\n",
    "    # 实现 Base64 编码\n",
    "    def encode_image(path):\n",
    "        with open(path, \"rb\") as image_file:\n",
    "            return base64.b64encode(image_file.read()).decode('utf-8')\n",
    "\n",
    "    # 获取图像的 Base64 编码字符串\n",
    "    base64_image = encode_image(image_path)\n",
    "\n",
    "    # 构造请求的 HTTP Header\n",
    "    headers = {\n",
    "        \"Content-Type\": \"application/json\",\n",
    "        \"Authorization\": f\"Bearer {client.api_key}\"\n",
    "    }\n",
    "\n",
    "    # 构造请求的负载\n",
    "    payload = {\n",
    "        \"model\": \"gpt-4-turbo\",\n",
    "        \"messages\": [\n",
    "            {\n",
    "                \"role\": \"user\",\n",
    "                \"content\": [\n",
    "                    {\"type\": \"text\", \"text\": prompt},\n",
    "                    {\"type\": \"image_url\", \"image_url\": {\"url\": f\"data:image/jpeg;base64,{base64_image}\"}}\n",
    "                ]\n",
    "            }\n",
    "        ],\n",
    "        \"max_tokens\": max_tokens\n",
    "    }\n",
    "\n",
    "    # 发送 HTTP 请求\n",
    "    response = requests.post(\"https://api.xiaoai.plus/v1/chat/completions\", headers=headers, json=payload)\n",
    "\n",
    "    # 检查响应并提取所需的 content 字段\n",
    "    if response.status_code == 200:\n",
    "        response_data = response.json()\n",
    "        content = response_data['choices'][0]['message']['content']\n",
    "        return content\n",
    "    else:\n",
    "        return f\"Error: {response.status_code}, {response.text}\""
   ]
  },
  {
   "cell_type": "markdown",
   "id": "89dd0f99-8086-473f-80a4-497e6dd07c17",
   "metadata": {},
   "source": [
    "#### 使用 Assistants API生成的 GDP 40年对比曲线图\n",
    "\n",
    "![gdp_data](./images/gdp_1980_2020.jpg)"
   ]
  },
  {
   "cell_type": "code",
   "execution_count": 19,
   "id": "3c0e9063-e8d9-4bc1-ae60-ad0aa5bee32b",
   "metadata": {},
   "outputs": [
    {
     "name": "stdout",
     "output_type": "stream",
     "text": [
      "这幅图表显示了1980年至2020年间美国、中国、日本和德国的国内生产总值（GDP）比较。各国GDP以万亿美元计算。\n",
      "\n",
      "从图中可以看出：\n",
      "1. **美国（蓝色线）**：美国的GDP在这40年间持续增长，从1980年的不到5万亿美元增长到2020年接近20万亿美元。\n",
      "\n",
      "2. **中国（红色线）**：1980年时中国的GDP相对较低，但从1990年代开始迅速增长，尤其是2000年后增长更为显著，至2020年接近15万亿美元。\n",
      "\n",
      "3. **日本（紫色线）**：日本的GDP在1980年代和1990年代初期迅速增长，达到高峰后在1990年代末到2000年初期略有波动下降，之后趋于稳定在5万亿美元左右。\n",
      "\n",
      "4. **德国（绿色线）**：德国的GDP增长相对平稳，从1980年的不到1万亿美元缓慢增加，到2020年约为4万亿美元。\n",
      "\n",
      "总体而言，这幅图表展示了四个主要经济体在过去几十年的经济增长情况，尤其突出了中国的快速增长和美国的稳定领先。\n"
     ]
    }
   ],
   "source": [
    "content = query_base64_image_description(\"./images/gdp_1980_2020.jpg\")\n",
    "print(content)"
   ]
  },
  {
   "cell_type": "markdown",
   "id": "6d18b227-32a6-4450-86bd-c99ad5c533b9",
   "metadata": {},
   "source": [
    "#### 使用 GPT-4V 识别手写体笔记\n",
    "\n",
    "![](./images/handwriting_0.jpg)"
   ]
  },
  {
   "cell_type": "code",
   "execution_count": 27,
   "id": "4193fa11-5edd-404c-9472-0cb8cc6799fc",
   "metadata": {},
   "outputs": [
    {
     "name": "stdout",
     "output_type": "stream",
     "text": [
      "此图显示的是一张手写的英语语法练习纸，主要内容包含英语中表示未来时的不同表达方式和结构。在纸上列出了六种不同的结构来表示未来行为或状态：\n",
      "\n",
      "1. 使用“be going to”结构，如 “I'm meeting Jack at the station at 4 tomorrow afternoon” 和 “I think I am going to faint.”\n",
      "2. 使用“be to do”结构，如 “The shop is to be opened in May” 和 “Am I to take over his work?”\n",
      "3. 使用“be about to do”结构，如 “He is about to leave” 和 “The movie is about to begin.”\n",
      "4. 使用简单的动词形式来询问关于未来的计划，如 \"When does the show begin?\" 和 \"The ship leaves for Shanghai in two hours.\"\n",
      "5. 使用“be on the point (verge, brink) of”结构来表示即将发生的动作，如 “He is on the point of going on a trip.”\n",
      "6. 使用“will be doing”结构，如 “He will soon be working for the company.”\n",
      "\n",
      "这些练习有助于学习者了解和练习英语中表示未来计划和行为的不同语法结构。\n"
     ]
    }
   ],
   "source": [
    "content = query_base64_image_description(\"./images/note.jpg\")\n",
    "print(content)"
   ]
  },
  {
   "cell_type": "markdown",
   "id": "ca046601-018c-455c-ace2-41392cbda456",
   "metadata": {},
   "source": [
    "#### 在 Jupyter 标准输出中渲染 Markdown 格式内容"
   ]
  },
  {
   "cell_type": "code",
   "execution_count": 28,
   "id": "516ee35b-1337-4b22-aea2-ee0adb706098",
   "metadata": {
    "scrolled": true
   },
   "outputs": [
    {
     "data": {
      "text/markdown": [
       "此图显示的是一张手写的英语语法练习纸，主要内容包含英语中表示未来时的不同表达方式和结构。在纸上列出了六种不同的结构来表示未来行为或状态：\n",
       "\n",
       "1. 使用“be going to”结构，如 “I'm meeting Jack at the station at 4 tomorrow afternoon” 和 “I think I am going to faint.”\n",
       "2. 使用“be to do”结构，如 “The shop is to be opened in May” 和 “Am I to take over his work?”\n",
       "3. 使用“be about to do”结构，如 “He is about to leave” 和 “The movie is about to begin.”\n",
       "4. 使用简单的动词形式来询问关于未来的计划，如 \"When does the show begin?\" 和 \"The ship leaves for Shanghai in two hours.\"\n",
       "5. 使用“be on the point (verge, brink) of”结构来表示即将发生的动作，如 “He is on the point of going on a trip.”\n",
       "6. 使用“will be doing”结构，如 “He will soon be working for the company.”\n",
       "\n",
       "这些练习有助于学习者了解和练习英语中表示未来计划和行为的不同语法结构。"
      ],
      "text/plain": [
       "<IPython.core.display.Markdown object>"
      ]
     },
     "metadata": {},
     "output_type": "display_data"
    }
   ],
   "source": [
    "from IPython.display import display, Markdown\n",
    "\n",
    "# 使用 display 和 Markdown 函数显示 Markdown 内容\n",
    "display(Markdown(content))"
   ]
  },
  {
   "cell_type": "markdown",
   "id": "b72ebbe3-87cc-4867-9cf0-62e5ed684482",
   "metadata": {},
   "source": [
    "![](./images/handwriting_1.jpg)"
   ]
  },
  {
   "cell_type": "code",
   "execution_count": null,
   "id": "7c046958-aa7a-4066-88fa-4134869d9226",
   "metadata": {},
   "outputs": [],
   "source": [
    "content = query_base64_image_description(\"./images/note.jpg\")\n",
    "display(Markdown(content))"
   ]
  },
  {
   "cell_type": "code",
   "execution_count": null,
   "id": "156a0f17-cca8-4f01-9ce5-53384b5ffda4",
   "metadata": {},
   "outputs": [],
   "source": []
  },
  {
   "cell_type": "code",
   "execution_count": null,
   "id": "e3bd772f-9492-4f6c-b05a-666b772ca3c9",
   "metadata": {},
   "outputs": [],
   "source": []
  },
  {
   "cell_type": "code",
   "execution_count": null,
   "id": "8afdeacb-aac1-4692-be2b-fb7957ba5e8f",
   "metadata": {},
   "outputs": [],
   "source": []
  },
  {
   "cell_type": "markdown",
   "id": "79a8d459-d98e-4215-9fbf-38ad37080475",
   "metadata": {},
   "source": [
    "## Homework: \n",
    "\n",
    "\n",
    "### #1\n",
    "\n",
    "使用 GPT-4V 识别带有手写体文字的本地图像文件，分享结果。\n",
    "\n",
    "### #2\n",
    "\n",
    "整合 `query_base64_image_description` 函数和 Markdown 格式渲染方法，使得输出结果更易阅读。"
   ]
  },
  {
   "cell_type": "code",
   "execution_count": null,
   "id": "0909bf27-9c4a-498c-9fae-0f442062b9a8",
   "metadata": {},
   "outputs": [],
   "source": []
  }
 ],
 "metadata": {
  "kernelspec": {
   "display_name": "langchain",
   "language": "python",
   "name": "langchain"
  },
  "language_info": {
   "codemirror_mode": {
    "name": "ipython",
    "version": 3
   },
   "file_extension": ".py",
   "mimetype": "text/x-python",
   "name": "python",
   "nbconvert_exporter": "python",
   "pygments_lexer": "ipython3",
   "version": "3.10.14"
  }
 },
 "nbformat": 4,
 "nbformat_minor": 5
}
